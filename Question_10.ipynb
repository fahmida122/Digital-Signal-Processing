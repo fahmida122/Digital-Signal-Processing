{
  "nbformat": 4,
  "nbformat_minor": 0,
  "metadata": {
    "colab": {
      "name": "Untitled5.ipynb",
      "provenance": []
    },
    "kernelspec": {
      "name": "python3",
      "display_name": "Python 3"
    },
    "language_info": {
      "name": "python"
    }
  },
  "cells": [
    {
      "cell_type": "code",
      "execution_count": 1,
      "metadata": {
        "colab": {
          "base_uri": "https://localhost:8080/"
        },
        "id": "yKLXDaQiKcC7",
        "outputId": "eab7971d-0221-42ef-b23b-8f3efeda973c"
      },
      "outputs": [
        {
          "output_type": "stream",
          "name": "stdout",
          "text": [
            "\n",
            "FFT of a given signal with N = 8 using Radix-2 algorithm:\n",
            " [21.        +0.j         -8.94974747+4.70710678j -4.        -3.j\n",
            "  0.94974747-3.29289322j  3.        +0.j          0.94974747+3.29289322j\n",
            " -4.        +3.j         -8.94974747-4.70710678j]\n",
            "\n",
            "FFT of a given signal with N = 8 using built_in function:\n",
            " [21.        +0.j         -8.94974747+4.70710678j -4.        -3.j\n",
            "  0.94974747-3.29289322j  3.        +0.j          0.94974747+3.29289322j\n",
            " -4.        +3.j         -8.94974747-4.70710678j]\n"
          ]
        }
      ],
      "source": [
        "import numpy as np\n",
        "import scipy.signal as signal\n",
        "from numpy.fft import fft, ifft\n",
        "\n",
        "def input_padding(input):\n",
        "    current_size = len(input)\n",
        "    required_length = int(2**(np.ceil(np.log2(current_size))))\n",
        "    padding_length = required_length - current_size\n",
        "    input = np.pad(input, (0, padding_length),'constant')\n",
        "    return input\n",
        "\n",
        "def FFT_radix(x, n):\n",
        "    x = np.asarray(x, dtype=complex)\n",
        "    n = len(x)\n",
        "\n",
        "    if n <= 1:\n",
        "        return x\n",
        "    else:\n",
        "        x_even = FFT_radix(x[::2], n//2)  # even part\n",
        "        x_odd = FFT_radix(x[1::2], n//2)  # odd part\n",
        "        combined = n * [0]\n",
        "\n",
        "        for i in range(n//2):\n",
        "            twiddle = np.exp(-2j * np.pi * i / n)\n",
        "            combined[i] = x_even[i] + x_odd[i] * twiddle\n",
        "            combined[i+n//2] = x_even[i] - x_odd[i] * twiddle\n",
        "\n",
        "    return np.array(combined)\n",
        "\n",
        "x = np.arange(7)\n",
        "x_padded = input_padding(x)\n",
        "print('\\nFFT of a given signal with N = 8 using Radix-2 algorithm:\\n', FFT_radix(x_padded, len(x_padded))) \n",
        "print('\\nFFT of a given signal with N = 8 using built_in function:\\n', fft(x_padded, len(x_padded))) "
      ]
    }
  ]
}
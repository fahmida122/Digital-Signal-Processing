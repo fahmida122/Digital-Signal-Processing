{
  "nbformat": 4,
  "nbformat_minor": 0,
  "metadata": {
    "colab": {
      "name": "Untitled8.ipynb",
      "provenance": []
    },
    "kernelspec": {
      "name": "python3",
      "display_name": "Python 3"
    },
    "language_info": {
      "name": "python"
    }
  },
  "cells": [
    {
      "cell_type": "code",
      "execution_count": 2,
      "metadata": {
        "colab": {
          "base_uri": "https://localhost:8080/"
        },
        "id": "RCmL-pQ7MSfz",
        "outputId": "fe26a3a6-f34a-48a0-9849-ff5d2be91f4c"
      },
      "outputs": [
        {
          "output_type": "stream",
          "name": "stdout",
          "text": [
            "convolution with my function:  [1. 4. 8. 8. 6. 4. 8. 3.]\n",
            "convolution with built-in function:  [1 4 8 8 6 4 8 3]\n"
          ]
        }
      ],
      "source": [
        "\n",
        "import numpy as np \n",
        "import matplotlib.pyplot as plt\n",
        "\n",
        "\n",
        "from scipy.signal import convolve as conv\n",
        "\n",
        "def convolution(x, h):\n",
        "    x_len = len(x)\n",
        "    h_len = len(h)\n",
        "    y_len = x_len + h_len - 1\n",
        "    y = np.zeros(y_len)\n",
        "    for m in range(x_len):\n",
        "        for n in range(h_len):\n",
        "            y[m+n] = y[m+n] + x[m]*h[n]\n",
        "    return y\n",
        "\n",
        "signal_x = [1, 2, 1, -1, 3]\n",
        "signal_h = [1, 2, 3, 1]\n",
        "print('convolution with my function: ', convolution(signal_x, signal_h)) \n",
        "print('convolution with built-in function: ', conv(signal_x, signal_h))"
      ]
    }
  ]
}
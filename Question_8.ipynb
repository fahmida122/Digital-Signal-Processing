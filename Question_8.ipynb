{
  "nbformat": 4,
  "nbformat_minor": 0,
  "metadata": {
    "colab": {
      "name": "Untitled13.ipynb",
      "provenance": []
    },
    "kernelspec": {
      "name": "python3",
      "display_name": "Python 3"
    },
    "language_info": {
      "name": "python"
    }
  },
  "cells": [
    {
      "cell_type": "code",
      "execution_count": 1,
      "metadata": {
        "id": "fygRdqv3PAEb",
        "outputId": "e31e3119-89da-4178-a2ba-37c4fa15e7aa",
        "colab": {
          "base_uri": "https://localhost:8080/"
        }
      },
      "outputs": [
        {
          "output_type": "stream",
          "name": "stdout",
          "text": [
            "Response of the FIR filter:  [ 1.  4.  9. 11.  8.  3.  0.  0.]\n",
            "Response of the FIR filter using built-in function:  [ 1.  4.  9. 11.  8.  3.  0. -0.]\n"
          ]
        }
      ],
      "source": [
        "import numpy as np\n",
        "import scipy.signal as signal\n",
        "from numpy.fft import fft, ifft\n",
        "\n",
        "def DFT(x):\n",
        "    x_len = len(x)\n",
        "    X = np.zeros((x_len), dtype=np.complex128)\n",
        "    for m in range(x_len): \n",
        "        for n in range(x_len): \n",
        "            X[m] += x[n] * np.exp(-2j * np.pi * m * n / x_len)\n",
        "    return X\n",
        "\n",
        "def IDFT(x):\n",
        "    x_len = len(x)\n",
        "    X = np.zeros((x_len), dtype=np.complex128)\n",
        "    for m in range(x_len):\n",
        "        for n in range(x_len): \n",
        "            X[m] += x[n] * np.exp(2j * np.pi * m * n / x_len)\n",
        "    X = X/x_len\n",
        "    X = np.real(X)\n",
        "    X = np.round(X, decimals=0)\n",
        "    return X\n",
        "\n",
        "def FIR(x, h):\n",
        "    y_len = len(x) + len(h) - 1\n",
        "    y_len = int(2**(np.ceil(np.log2(y_len))))\n",
        "    h = np.pad(h, (0, y_len-len(h)),'constant')\n",
        "    x = np.pad(x, (0, y_len-len(x)),'constant')\n",
        "    product_dft = DFT(h) * DFT(x)\n",
        "    y = IDFT(product_dft)\n",
        "    return y\n",
        "\n",
        "\n",
        "h = [1, 2, 3]\n",
        "x = [1, 2, 2, 1]\n",
        "print('Response of the FIR filter: ', FIR(x, h))\n",
        "print('Response of the FIR filter using built-in function: ', np.real(ifft(fft(x, 8)*fft(h, 8)).round()))"
      ]
    }
  ]
}
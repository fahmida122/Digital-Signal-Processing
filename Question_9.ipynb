{
  "nbformat": 4,
  "nbformat_minor": 0,
  "metadata": {
    "colab": {
      "name": "Untitled6.ipynb",
      "provenance": []
    },
    "kernelspec": {
      "name": "python3",
      "display_name": "Python 3"
    },
    "language_info": {
      "name": "python"
    }
  },
  "cells": [
    {
      "cell_type": "code",
      "execution_count": 1,
      "metadata": {
        "colab": {
          "base_uri": "https://localhost:8080/"
        },
        "id": "tZquKsLCLV9n",
        "outputId": "af3465fe-2c1a-468f-860d-b03d5f7e7d71"
      },
      "outputs": [
        {
          "output_type": "stream",
          "name": "stdout",
          "text": [
            "FFT of a given signal using divide and conquer approach:\n",
            " [28.+0.00000000e+00j -4.+9.65685425e+00j -4.+4.00000000e+00j\n",
            " -4.+1.65685425e+00j -4.-2.44929360e-15j -4.-1.65685425e+00j\n",
            " -4.-4.00000000e+00j -4.-9.65685425e+00j]\n",
            "\n",
            "FFT of a given signal using built-in function:\n",
            " [28.+0.j         -4.+9.65685425j -4.+4.j         -4.+1.65685425j\n",
            " -4.+0.j         -4.-1.65685425j -4.-4.j         -4.-9.65685425j]\n"
          ]
        }
      ],
      "source": [
        "import numpy as np\n",
        "import scipy.signal as signal\n",
        "from numpy.fft import fft, ifft\n",
        "\n",
        "def DFT(x):\n",
        "    x_len = len(x)\n",
        "    X = np.zeros((x_len), dtype=np.complex128)\n",
        "    for m in range(x_len): \n",
        "        for n in range(x_len): \n",
        "            X[m] += x[n] * np.exp(-2j * np.pi * m * n / x_len)\n",
        "    return X\n",
        "\n",
        "def factorize(n, x):\n",
        "    i = 2\n",
        "    while i * i < n :\n",
        "        if n % i == 0:\n",
        "            return i, int(n//i), x, len(x)\n",
        "        i += 1\n",
        "    # if prime, x is padded\n",
        "    x = np.pad(x, (0, 1),'constant')\n",
        "    return int(n//2)+1, 2, x, len(x)\n",
        "\n",
        "def twiddle_factor(ll, q, n):\n",
        "    w = np.exp((-2j * np.pi * ll * q) / n)\n",
        "    return w\n",
        "\n",
        "def DFT_2D(matrix):\n",
        "   DFT_rows = [DFT(row) for row in matrix]\n",
        "   return DFT_rows\n",
        "\n",
        "def FFT_divide_and_conquer_2(x):\n",
        "    n = len(x)\n",
        "\n",
        "    #for calculating l, m [n=l*m], n(x_len), padding x if needed\n",
        "    l, m, x, n = factorize(n, x)\n",
        "    check_x = x # for comparing with built-in function\n",
        "    \n",
        "    #column_wise store\n",
        "    x = np.transpose(x.reshape((l,m)))\n",
        "    \n",
        "    #m point DFT of each row\n",
        "    f_lq = DFT_2D(x)\n",
        "\n",
        "    #phase factor w_lq\n",
        "    l1 = np.arange(l)\n",
        "    q = np.arange(m).reshape((m, 1))\n",
        "    #print(l1.shape, q.shape)\n",
        "    w_lq = twiddle_factor(l1, q, n)\n",
        "\n",
        "    #multiply with phase factor w_lq\n",
        "    g_lq = f_lq * w_lq\n",
        "\n",
        "    #l point DFT of each column\n",
        "    x_pq = np.transpose(DFT_2D(np.transpose(g_lq))).ravel()\n",
        "\n",
        "    return x_pq, check_x\n",
        "\n",
        "\n",
        "x = np.arange(8)\n",
        "result, check_x = FFT_divide_and_conquer_2(x)\n",
        "\n",
        "print('FFT of a given signal using divide and conquer approach:\\n', result)\n",
        "print('\\nFFT of a given signal using built-in function:\\n', fft(check_x))"
      ]
    }
  ]
}
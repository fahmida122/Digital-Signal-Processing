{
  "nbformat": 4,
  "nbformat_minor": 0,
  "metadata": {
    "colab": {
      "name": "Untitled11.ipynb",
      "provenance": []
    },
    "kernelspec": {
      "name": "python3",
      "display_name": "Python 3"
    },
    "language_info": {
      "name": "python"
    }
  },
  "cells": [
    {
      "cell_type": "code",
      "execution_count": null,
      "metadata": {
        "id": "zcXaJSxDOVSG"
      },
      "outputs": [],
      "source": [
        "import numpy as np\n",
        "from numpy.fft import fft\n",
        "\n",
        "def DFT(x):\n",
        "    x_len = len(x)\n",
        "    X = np.zeros((x_len), dtype=np.complex128)\n",
        "    for m in range(x_len):    \n",
        "        for n in range(x_len): \n",
        "            X[m] += x[n] * np.exp(-np.pi * 2j * m * n / x_len)\n",
        "    return X\n",
        "\n",
        "x = [0, 1, 2, 3]\n",
        "\n",
        "\n",
        "print('DFT of the signal using my fuction:')\n",
        "print(DFT(x).round())\n",
        "\n",
        "print('DFT of the signal using built-in fuction:\\n', fft(x, len(x)))"
      ]
    }
  ]
}
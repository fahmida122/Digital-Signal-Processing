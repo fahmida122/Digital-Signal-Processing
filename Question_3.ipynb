{
  "nbformat": 4,
  "nbformat_minor": 0,
  "metadata": {
    "colab": {
      "name": "Untitled9.ipynb",
      "provenance": []
    },
    "kernelspec": {
      "name": "python3",
      "display_name": "Python 3"
    },
    "language_info": {
      "name": "python"
    }
  },
  "cells": [
    {
      "cell_type": "code",
      "execution_count": 1,
      "metadata": {
        "colab": {
          "base_uri": "https://localhost:8080/"
        },
        "id": "kmKbrpoZNQ19",
        "outputId": "7eb04a09-34ce-4243-bb65-3bf03d3841d0"
      },
      "outputs": [
        {
          "output_type": "stream",
          "name": "stdout",
          "text": [
            "cross correlation with my function:  [1. 5. 9. 7. 4. 8. 5. 3.]\n",
            "cross correlation with built-in function:  [1 5 9 7 4 8 5 3]\n"
          ]
        }
      ],
      "source": [
        "import numpy as np\n",
        "\n",
        "def convolution(x, h):\n",
        "    x_len = len(x)\n",
        "    h_len = len(h)\n",
        "    y_len = x_len + h_len - 1\n",
        "    y = np.zeros(y_len)\n",
        "    for m in range(x_len):\n",
        "        for n in range(h_len):\n",
        "            y[m+n] = y[m+n] + x[m]*h[n]\n",
        "    return y\n",
        "\n",
        "def cross_correlation(x, h):\n",
        "    h_fold = h[::-1]\n",
        "    return convolution(np.conj(x), h_fold)\n",
        "\n",
        "signal_x = [1, 2, 1, -1, 3]\n",
        "signal_h = [1, 2, 3, 1]\n",
        "\n",
        "print('cross correlation with my function: ', cross_correlation(signal_x, signal_h))\n",
        "print('cross correlation with built-in function: ', np.correlate(signal_x, signal_h,'full'))"
      ]
    }
  ]
}
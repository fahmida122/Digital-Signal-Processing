{
  "nbformat": 4,
  "nbformat_minor": 0,
  "metadata": {
    "colab": {
      "name": "Untitled12.ipynb",
      "provenance": []
    },
    "kernelspec": {
      "name": "python3",
      "display_name": "Python 3"
    },
    "language_info": {
      "name": "python"
    }
  },
  "cells": [
    {
      "cell_type": "code",
      "execution_count": null,
      "metadata": {
        "id": "ojyWawDTOtfh"
      },
      "outputs": [],
      "source": [
        "import numpy as np\n",
        "from numpy.fft import fft, ifft\n",
        "\n",
        "def DFT(x):\n",
        "    x_len = len(x)\n",
        "    X = np.zeros((x_len), dtype=np.complex128)\n",
        "    for m in range(x_len):    \n",
        "        for n in range(x_len): \n",
        "            X[m] += x[n] * np.exp(-2j * np.pi * m * n / x_len)\n",
        "    return X\n",
        "\n",
        "def IDFT(x):\n",
        "    x_len = len(x)\n",
        "    X = np.zeros((x_len), dtype=np.complex128)\n",
        "    for m in range(x_len):\n",
        "        for n in range(x_len): \n",
        "            X[m] += x[n] * np.exp(2j * np.pi * m * n / x_len)\n",
        "    X = X/x_len\n",
        "    X = np.real(X)\n",
        "    X = np.round(X,decimals=0)\n",
        "    return X\n",
        "\n",
        "x = [0, 1, 2, 3, 8]\n",
        "\n",
        "dft_x = DFT(x)\n",
        "idft_x = IDFT(dft_x)\n",
        "print('DFT of the signal using my function: ')\n",
        "print(dft_x)\n",
        "print('IDFT of the signal using my function: ')\n",
        "print(idft_x)\n",
        "\n",
        "print('\\nDFT of the signal using python library: ',)\n",
        "python_dft_x = fft(x, len(x))\n",
        "print(python_dft_x)\n",
        "print('IDFT of the signal using python library: ')\n",
        "python_idft_x = ifft(python_dft_x)\n",
        "print(python_idft_x)"
      ]
    }
  ]
}
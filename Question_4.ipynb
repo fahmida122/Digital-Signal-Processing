{
  "nbformat": 4,
  "nbformat_minor": 0,
  "metadata": {
    "colab": {
      "name": "Untitled10.ipynb",
      "provenance": []
    },
    "kernelspec": {
      "name": "python3",
      "display_name": "Python 3"
    },
    "language_info": {
      "name": "python"
    }
  },
  "cells": [
    {
      "cell_type": "code",
      "execution_count": null,
      "metadata": {
        "id": "DkYz_96hNr7M"
      },
      "outputs": [],
      "source": [
        "import numpy as np\n",
        "\n",
        "def convolution(x, h):\n",
        "    x_len = len(x)\n",
        "    h_len = len(h)\n",
        "    y_len = x_len + h_len - 1\n",
        "    y = np.zeros(y_len)\n",
        "    for m in range(x_len):\n",
        "        for n in range(h_len):\n",
        "            y[m+n] = y[m+n] + x[m]*h[n]\n",
        "    return y\n",
        "\n",
        "def auto_correlation(x):\n",
        "    x_fold = x[::-1]\n",
        "    return convolution(np.conj(x), x_fold)\n",
        "\n",
        "signal_x = [1, 2, 3, -7, 9]\n",
        "\n",
        "print('auto correlation with my function: ', auto_correlation(signal_x))\n",
        "print('auto correlation with built-in function: ', np.correlate(signal_x, signal_x,'full')) "
      ]
    }
  ]
}